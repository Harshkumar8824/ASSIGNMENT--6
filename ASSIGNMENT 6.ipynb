{
 "cells": [
  {
   "cell_type": "code",
   "execution_count": 130,
   "id": "7aa5570c",
   "metadata": {},
   "outputs": [],
   "source": [
    "from numpy import*"
   ]
  },
  {
   "cell_type": "code",
   "execution_count": 131,
   "id": "3d7c164d",
   "metadata": {},
   "outputs": [],
   "source": [
    "def loadDataSet():\n",
    " return[['M','O','N','K','E','Y'],['D','O','N','K','E','Y'],['M','A','K','E'],['M','U','C','K','Y'],['C','O','O','K','I','E']]\n"
   ]
  },
  {
   "cell_type": "code",
   "execution_count": 132,
   "id": "1ea7b2ff",
   "metadata": {},
   "outputs": [],
   "source": [
    "def createC1(dataSet):\n",
    " C1=[]\n",
    " for transaction in dataSet:\n",
    "  for item in transaction:\n",
    "    if not[item] in C1:\n",
    "     C1.append([item])\n",
    " C1.sort()\n",
    " return list(map(frozenset,C1)) "
   ]
  },
  {
   "cell_type": "code",
   "execution_count": 133,
   "id": "80c6edd7",
   "metadata": {},
   "outputs": [],
   "source": [
    "def scanD(D,Ck,minSupport):\n",
    "   ssCnt={}\n",
    "   for tid in D:\n",
    "      for can in Ck:\n",
    "        if can.issubset(tid):\n",
    "            if not can in ssCnt:\n",
    "                 ssCnt[can]=1\n",
    "            else:\n",
    "                 ssCnt[can]+=1\n",
    "   numItems=float(len(D))\n",
    "   retList=[]\n",
    "   supportData={}\n",
    "   for key in ssCnt:\n",
    "        support=ssCnt[key]/numItems\n",
    "        if support>=minSupport:\n",
    "             retList.insert(0,key)\n",
    "        supportData[key]=support\n",
    "   return retList,supportData"
   ]
  },
  {
   "cell_type": "code",
   "execution_count": 134,
   "id": "66a7689b",
   "metadata": {},
   "outputs": [
    {
     "data": {
      "text/plain": [
       "[['M', 'O', 'N', 'K', 'E', 'Y'],\n",
       " ['D', 'O', 'N', 'K', 'E', 'Y'],\n",
       " ['M', 'A', 'K', 'E'],\n",
       " ['M', 'U', 'C', 'K', 'Y'],\n",
       " ['C', 'O', 'O', 'K', 'I', 'E']]"
      ]
     },
     "execution_count": 134,
     "metadata": {},
     "output_type": "execute_result"
    }
   ],
   "source": [
    "dataSet=loadDataSet()\n",
    "dataSet\n"
   ]
  },
  {
   "cell_type": "code",
   "execution_count": 135,
   "id": "77496fc5",
   "metadata": {},
   "outputs": [],
   "source": [
    "C1=createC1(dataSet)"
   ]
  },
  {
   "cell_type": "code",
   "execution_count": 136,
   "id": "18191c72",
   "metadata": {},
   "outputs": [
    {
     "data": {
      "text/plain": [
       "[frozenset({'A'}),\n",
       " frozenset({'C'}),\n",
       " frozenset({'D'}),\n",
       " frozenset({'E'}),\n",
       " frozenset({'I'}),\n",
       " frozenset({'K'}),\n",
       " frozenset({'M'}),\n",
       " frozenset({'N'}),\n",
       " frozenset({'O'}),\n",
       " frozenset({'U'}),\n",
       " frozenset({'Y'})]"
      ]
     },
     "execution_count": 136,
     "metadata": {},
     "output_type": "execute_result"
    }
   ],
   "source": [
    "C1"
   ]
  },
  {
   "cell_type": "code",
   "execution_count": 137,
   "id": "24dd8db5",
   "metadata": {},
   "outputs": [],
   "source": [
    "D=list(map(set,dataSet))"
   ]
  },
  {
   "cell_type": "code",
   "execution_count": 138,
   "id": "5085ab7d",
   "metadata": {},
   "outputs": [
    {
     "data": {
      "text/plain": [
       "[{'E', 'K', 'M', 'N', 'O', 'Y'},\n",
       " {'D', 'E', 'K', 'N', 'O', 'Y'},\n",
       " {'A', 'E', 'K', 'M'},\n",
       " {'C', 'K', 'M', 'U', 'Y'},\n",
       " {'C', 'E', 'I', 'K', 'O'}]"
      ]
     },
     "execution_count": 138,
     "metadata": {},
     "output_type": "execute_result"
    }
   ],
   "source": [
    "D"
   ]
  },
  {
   "cell_type": "code",
   "execution_count": 139,
   "id": "a207555a",
   "metadata": {},
   "outputs": [
    {
     "data": {
      "text/plain": [
       "[frozenset({'Y'}),\n",
       " frozenset({'O'}),\n",
       " frozenset({'M'}),\n",
       " frozenset({'K'}),\n",
       " frozenset({'E'})]"
      ]
     },
     "execution_count": 139,
     "metadata": {},
     "output_type": "execute_result"
    }
   ],
   "source": [
    "L1,suppDat0=scanD(D,C1,0.6)\n",
    "L1"
   ]
  },
  {
   "cell_type": "code",
   "execution_count": 140,
   "id": "2d58c293",
   "metadata": {},
   "outputs": [],
   "source": [
    "def aprioriGen(Lk, k): #creates Ck\n",
    "    retList = []\n",
    "    lenLk = len(Lk)\n",
    "    for i in range(lenLk):\n",
    "        for j in range(i+1, lenLk): \n",
    "            L1 = list(Lk[i])[:k-2]; L2 = list(Lk[j])[:k-2]\n",
    "            L1.sort(); L2.sort()\n",
    "            if L1==L2: \n",
    "                retList.append(Lk[i] | Lk[j]) \n",
    "    return retList\n"
   ]
  },
  {
   "cell_type": "code",
   "execution_count": 141,
   "id": "10c3d2dd",
   "metadata": {},
   "outputs": [],
   "source": [
    "def apriori(dataSet, minSupport = 0.6):\n",
    "    C1 = createC1(dataSet)\n",
    "    D = list(map(set, dataSet))\n",
    "    L1, supportData = scanD(D, C1, minSupport)\n",
    "    L = [L1]\n",
    "    k = 2\n",
    "    while (len(L[k-2]) > 0):\n",
    "        Ck = aprioriGen(L[k-2], k)\n",
    "        Lk, supK = scanD(D, Ck, minSupport)#scan DB to get Lk\n",
    "        supportData.update(supK)\n",
    "        L.append(Lk)\n",
    "        k += 1\n",
    "    return L, supportData\n"
   ]
  },
  {
   "cell_type": "code",
   "execution_count": 142,
   "id": "86decb5d",
   "metadata": {},
   "outputs": [],
   "source": [
    "L,suppData=apriori(dataSet)"
   ]
  },
  {
   "cell_type": "code",
   "execution_count": 143,
   "id": "b5695468",
   "metadata": {},
   "outputs": [
    {
     "data": {
      "text/plain": [
       "[[frozenset({'Y'}),\n",
       "  frozenset({'O'}),\n",
       "  frozenset({'M'}),\n",
       "  frozenset({'K'}),\n",
       "  frozenset({'E'})],\n",
       " [frozenset({'E', 'K'}),\n",
       "  frozenset({'K', 'M'}),\n",
       "  frozenset({'E', 'O'}),\n",
       "  frozenset({'K', 'O'}),\n",
       "  frozenset({'K', 'Y'})],\n",
       " [frozenset({'E', 'K', 'O'})],\n",
       " []]"
      ]
     },
     "execution_count": 143,
     "metadata": {},
     "output_type": "execute_result"
    }
   ],
   "source": [
    "L"
   ]
  },
  {
   "cell_type": "code",
   "execution_count": 144,
   "id": "7ba9c95b",
   "metadata": {},
   "outputs": [
    {
     "data": {
      "text/plain": [
       "[frozenset({'Y'}),\n",
       " frozenset({'O'}),\n",
       " frozenset({'M'}),\n",
       " frozenset({'K'}),\n",
       " frozenset({'E'})]"
      ]
     },
     "execution_count": 144,
     "metadata": {},
     "output_type": "execute_result"
    }
   ],
   "source": [
    "L[0]"
   ]
  },
  {
   "cell_type": "code",
   "execution_count": 145,
   "id": "04ddbc32",
   "metadata": {},
   "outputs": [
    {
     "data": {
      "text/plain": [
       "[frozenset({'E', 'K'}),\n",
       " frozenset({'K', 'M'}),\n",
       " frozenset({'E', 'O'}),\n",
       " frozenset({'K', 'O'}),\n",
       " frozenset({'K', 'Y'})]"
      ]
     },
     "execution_count": 145,
     "metadata": {},
     "output_type": "execute_result"
    }
   ],
   "source": [
    "L[1]"
   ]
  },
  {
   "cell_type": "code",
   "execution_count": 146,
   "id": "86436a6d",
   "metadata": {},
   "outputs": [
    {
     "data": {
      "text/plain": [
       "[frozenset({'E', 'K', 'O'})]"
      ]
     },
     "execution_count": 146,
     "metadata": {},
     "output_type": "execute_result"
    }
   ],
   "source": [
    "L[2]"
   ]
  },
  {
   "cell_type": "code",
   "execution_count": 147,
   "id": "89cd9e20",
   "metadata": {},
   "outputs": [
    {
     "data": {
      "text/plain": [
       "[]"
      ]
     },
     "execution_count": 147,
     "metadata": {},
     "output_type": "execute_result"
    }
   ],
   "source": [
    "L[3]"
   ]
  },
  {
   "cell_type": "code",
   "execution_count": 148,
   "id": "6c559ed6",
   "metadata": {},
   "outputs": [
    {
     "data": {
      "text/plain": [
       "[frozenset({'O', 'Y'}),\n",
       " frozenset({'M', 'Y'}),\n",
       " frozenset({'K', 'Y'}),\n",
       " frozenset({'E', 'Y'}),\n",
       " frozenset({'M', 'O'}),\n",
       " frozenset({'K', 'O'}),\n",
       " frozenset({'E', 'O'}),\n",
       " frozenset({'K', 'M'}),\n",
       " frozenset({'E', 'M'}),\n",
       " frozenset({'E', 'K'})]"
      ]
     },
     "execution_count": 148,
     "metadata": {},
     "output_type": "execute_result"
    }
   ],
   "source": [
    "aprioriGen(L[0],2)"
   ]
  },
  {
   "cell_type": "code",
   "execution_count": 149,
   "id": "90e77cf9",
   "metadata": {},
   "outputs": [],
   "source": [
    "def generateRules(L,supportData,minConf=0.7):\n",
    " bigRuleList=[]\n",
    " for i in range(1,len(L)):\n",
    "  for freqSet in L[i]:\n",
    "    H1=[frozenset([item])for item in freqSet]\n",
    "    if(i>1):\n",
    "     rulesFromConseq(freqSet,H1,supportData,bigRuleList,minConf)\n",
    "    else:\n",
    "     calcConf(freqSet,H1,supportData,bigRuleList,minConf)\n",
    " return bigRuleList\n"
   ]
  },
  {
   "cell_type": "code",
   "execution_count": 150,
   "id": "61fcd2d2",
   "metadata": {},
   "outputs": [],
   "source": [
    "def calcConf(freqSet,H,supportData,brl,minConf=0.7):\n",
    " prunedH=[]\n",
    " for conseq in H:\n",
    "  conf=supportData[freqSet]/supportData[freqSet-conseq]\n",
    "  if conf>=minConf:\n",
    "   print(freqSet-conseq,'-->',conseq,'conf:',conf)\n",
    "   brl.append((freqSet-conseq,conseq,conf))\n",
    "   prunedH.append(conseq)\n",
    " return prunedH\n"
   ]
  },
  {
   "cell_type": "code",
   "execution_count": 151,
   "id": "19325fc4",
   "metadata": {},
   "outputs": [],
   "source": [
    "def rulesFromConseq(freqSet,H,supportData,brl,minConf=0.7):\n",
    " m=len(H[0])\n",
    " if(len(freqSet)>(m+1)):\n",
    "  Hmp1=aprioriGen(H,m+1)\n",
    "  Hmp1=calcConf(freqSet,Hmp1,supportData,brl,minConf)\n",
    " if(len(Hmp1)>1):\n",
    "   rulesFromConseq(freqSet,Hmp1,supportData,brl,minConf)\n"
   ]
  },
  {
   "cell_type": "code",
   "execution_count": 152,
   "id": "796c79e9",
   "metadata": {},
   "outputs": [],
   "source": [
    "L,suppData=apriori(dataSet,minSupport=0.6)"
   ]
  },
  {
   "cell_type": "code",
   "execution_count": 153,
   "id": "0f1f615e",
   "metadata": {},
   "outputs": [
    {
     "name": "stdout",
     "output_type": "stream",
     "text": [
      "frozenset({'K'}) --> frozenset({'E'}) conf: 0.8\n",
      "frozenset({'E'}) --> frozenset({'K'}) conf: 1.0\n",
      "frozenset({'M'}) --> frozenset({'K'}) conf: 1.0\n",
      "frozenset({'O'}) --> frozenset({'E'}) conf: 1.0\n",
      "frozenset({'E'}) --> frozenset({'O'}) conf: 0.7499999999999999\n",
      "frozenset({'O'}) --> frozenset({'K'}) conf: 1.0\n",
      "frozenset({'Y'}) --> frozenset({'K'}) conf: 1.0\n",
      "frozenset({'O'}) --> frozenset({'E', 'K'}) conf: 1.0\n",
      "frozenset({'E'}) --> frozenset({'O', 'K'}) conf: 0.7499999999999999\n"
     ]
    },
    {
     "ename": "UnboundLocalError",
     "evalue": "cannot access local variable 'Hmp1' where it is not associated with a value",
     "output_type": "error",
     "traceback": [
      "\u001b[1;31m---------------------------------------------------------------------------\u001b[0m",
      "\u001b[1;31mUnboundLocalError\u001b[0m                         Traceback (most recent call last)",
      "Cell \u001b[1;32mIn[153], line 1\u001b[0m\n\u001b[1;32m----> 1\u001b[0m rules \u001b[38;5;241m=\u001b[39m generateRules(L, suppData, minConf\u001b[38;5;241m=\u001b[39m\u001b[38;5;241m0.7\u001b[39m)\n\u001b[0;32m      3\u001b[0m \u001b[38;5;28;01mfor\u001b[39;00m rule \u001b[38;5;129;01min\u001b[39;00m rules:\n\u001b[0;32m      4\u001b[0m     antecedent, consequent, confidence \u001b[38;5;241m=\u001b[39m rule\n",
      "Cell \u001b[1;32mIn[149], line 7\u001b[0m, in \u001b[0;36mgenerateRules\u001b[1;34m(L, supportData, minConf)\u001b[0m\n\u001b[0;32m      5\u001b[0m H1\u001b[38;5;241m=\u001b[39m[\u001b[38;5;28mfrozenset\u001b[39m([item])\u001b[38;5;28;01mfor\u001b[39;00m item \u001b[38;5;129;01min\u001b[39;00m freqSet]\n\u001b[0;32m      6\u001b[0m \u001b[38;5;28;01mif\u001b[39;00m(i\u001b[38;5;241m>\u001b[39m\u001b[38;5;241m1\u001b[39m):\n\u001b[1;32m----> 7\u001b[0m  rulesFromConseq(freqSet,H1,supportData,bigRuleList,minConf)\n\u001b[0;32m      8\u001b[0m \u001b[38;5;28;01melse\u001b[39;00m:\n\u001b[0;32m      9\u001b[0m  calcConf(freqSet,H1,supportData,bigRuleList,minConf)\n",
      "Cell \u001b[1;32mIn[151], line 7\u001b[0m, in \u001b[0;36mrulesFromConseq\u001b[1;34m(freqSet, H, supportData, brl, minConf)\u001b[0m\n\u001b[0;32m      5\u001b[0m  Hmp1\u001b[38;5;241m=\u001b[39mcalcConf(freqSet,Hmp1,supportData,brl,minConf)\n\u001b[0;32m      6\u001b[0m \u001b[38;5;28;01mif\u001b[39;00m(\u001b[38;5;28mlen\u001b[39m(Hmp1)\u001b[38;5;241m>\u001b[39m\u001b[38;5;241m1\u001b[39m):\n\u001b[1;32m----> 7\u001b[0m   rulesFromConseq(freqSet,Hmp1,supportData,brl,minConf)\n",
      "Cell \u001b[1;32mIn[151], line 6\u001b[0m, in \u001b[0;36mrulesFromConseq\u001b[1;34m(freqSet, H, supportData, brl, minConf)\u001b[0m\n\u001b[0;32m      4\u001b[0m  Hmp1\u001b[38;5;241m=\u001b[39maprioriGen(H,m\u001b[38;5;241m+\u001b[39m\u001b[38;5;241m1\u001b[39m)\n\u001b[0;32m      5\u001b[0m  Hmp1\u001b[38;5;241m=\u001b[39mcalcConf(freqSet,Hmp1,supportData,brl,minConf)\n\u001b[1;32m----> 6\u001b[0m \u001b[38;5;28;01mif\u001b[39;00m(\u001b[38;5;28mlen\u001b[39m(Hmp1)\u001b[38;5;241m>\u001b[39m\u001b[38;5;241m1\u001b[39m):\n\u001b[0;32m      7\u001b[0m   rulesFromConseq(freqSet,Hmp1,supportData,brl,minConf)\n",
      "\u001b[1;31mUnboundLocalError\u001b[0m: cannot access local variable 'Hmp1' where it is not associated with a value"
     ]
    }
   ],
   "source": [
    "rules = generateRules(L, suppData, minConf=0.7)\n",
    "\n",
    "for rule in rules:\n",
    "    antecedent, consequent, confidence = rule\n",
    "    print(f\"{antecedent} --> {consequent} conf: {confidence}\")\n"
   ]
  },
  {
   "cell_type": "code",
   "execution_count": null,
   "id": "332ae67c",
   "metadata": {},
   "outputs": [],
   "source": []
  },
  {
   "cell_type": "code",
   "execution_count": null,
   "id": "1291b805",
   "metadata": {},
   "outputs": [],
   "source": []
  }
 ],
 "metadata": {
  "kernelspec": {
   "display_name": "Python 3 (ipykernel)",
   "language": "python",
   "name": "python3"
  },
  "language_info": {
   "codemirror_mode": {
    "name": "ipython",
    "version": 3
   },
   "file_extension": ".py",
   "mimetype": "text/x-python",
   "name": "python",
   "nbconvert_exporter": "python",
   "pygments_lexer": "ipython3",
   "version": "3.11.3"
  }
 },
 "nbformat": 4,
 "nbformat_minor": 5
}
